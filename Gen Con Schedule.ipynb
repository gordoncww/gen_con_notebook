{
 "cells": [
  {
   "cell_type": "code",
   "execution_count": 139,
   "metadata": {
    "scrolled": true
   },
   "outputs": [
    {
     "name": "stdout",
     "output_type": "stream",
     "text": [
      "getting https://www.gencon.com/api/event_search?ag[]=eo&ag[]=tn&ag[]=ma&ag[]=tw&page=401\n"
     ]
    }
   ],
   "source": [
    "import requests\n",
    "import time\n",
    "import json\n",
    "import pandas as pd\n",
    "import qgrid\n",
    "import os.path\n",
    "import re\n",
    "import urllib.parse\n",
    "import datetime\n",
    "from pytz import timezone\n",
    "import pytz\n",
    "from IPython.display import clear_output\n",
    "\n",
    "MAX_PAGE_NUM = 500 # Safety measure. Won't request more than this many pages no matter the result.\n",
    "BASE_URL = 'https://www.gencon.com'\n",
    "BASE_PATH = 'cache/'\n",
    "\n",
    "page_num = 1\n",
    "records = []\n",
    "events = pd.DataFrame()\n",
    "url = BASE_URL + '/api/event_search?ag[]=eo&ag[]=tn&ag[]=ma&ag[]=tw&page=1'\n",
    "\n",
    "def cache_file_name(url):\n",
    "    return os.path.normpath(BASE_PATH + re.sub(r\"[:\\/\\?\\&\\[\\]]\",'_', url))\n",
    "    \n",
    "def fetch_body(url):\n",
    "    file_path = cache_file_name(url)\n",
    "    if os.path.isfile(file_path):\n",
    "        print('getting ' + url + ' from file')\n",
    "        with open(file_path) as f:\n",
    "            body = f.read()\n",
    "    else:\n",
    "        time.sleep(2)\n",
    "        print('getting ' + url)\n",
    "        res=requests.get(url)\n",
    "\n",
    "        if res.status_code == requests.codes.ok:\n",
    "            with open(file_path,'w+') as f:\n",
    "                f.write(res.text)\n",
    "        else:\n",
    "            print('ERROR: ' + str(res.status_code) + ' from ' + url)\n",
    "        body = res.text\n",
    "            \n",
    "    clear_output(wait=True)\n",
    "    \n",
    "    return body\n",
    "\n",
    "while page_num <= MAX_PAGE_NUM:\n",
    "    body = fetch_body(url)\n",
    "    events_json = json.loads(body)\n",
    "\n",
    "    for record in events_json['records']:\n",
    "        events = events.append(pd.DataFrame.from_dict([record['_source']]), ignore_index=True)\n",
    "\n",
    "    if events_json['has_more']:\n",
    "        page_num += 1\n",
    "        url = BASE_URL + events_json['next_path']\n",
    "    else:\n",
    "        break\n",
    "\n",
    "# make titles link to gencon page. insert sort_key attribute to preserve ability to alpha sort.\n",
    "events['title'] = events.apply(lambda row: '<a sort_key=\\\"' + row['title'].lstrip() + '\\\" href=\\\"https://www.gencon.com/events/' + str(row['id'])  + '\\\" target=\\\"_blank\\\">' + row['title'] + '</a>', axis=1)\n",
    "\n",
    "# Make game system names link to google search\n",
    "events['game_system'] = events['game_system'].apply(lambda x: '<a href=\\\"https://www.google.com/search?q='+ urllib.parse.quote_plus(x.lstrip()) + '+site%3Aboardgamegeek.com\" target=\\\"_blank\\\">' + x.lstrip() + '</a>')\n",
    "\n",
    "# Make more readable start time column\n",
    "eastern = timezone('US/Eastern')\n",
    "events['event_start'] = events['date_with_time'].apply(lambda x: datetime.datetime.fromtimestamp(x).astimezone(eastern).strftime('%m-%d %I:%M %p'))"
   ]
  },
  {
   "cell_type": "code",
   "execution_count": 138,
   "metadata": {
    "scrolled": true
   },
   "outputs": [
    {
     "data": {
      "application/vnd.jupyter.widget-view+json": {
       "model_id": "f7f53c933cc84e208df19faa41c3711c",
       "version_major": 2,
       "version_minor": 0
      },
      "text/plain": [
       "QgridWidget(grid_options={'fullWidthRows': True, 'syncColumnCellResize': True, 'forceFitColumns': False, 'defa…"
      ]
     },
     "metadata": {},
     "output_type": "display_data"
    }
   ],
   "source": [
    "widget = qgrid.show_grid(events[['title', 'short_description', 'event_start', 'event_duration', 'game_system', 'rules_edition', 'tickets_available', 'materials_provided', 'printable_event_type']], grid_options={'forceFitColumns': False,'fullWidthRows': True}, show_toolbar=True)\n",
    "widget"
   ]
  },
  {
   "cell_type": "code",
   "execution_count": null,
   "metadata": {},
   "outputs": [],
   "source": []
  }
 ],
 "metadata": {
  "kernelspec": {
   "display_name": "Python 3",
   "language": "python",
   "name": "python3"
  },
  "language_info": {
   "codemirror_mode": {
    "name": "ipython",
    "version": 3
   },
   "file_extension": ".py",
   "mimetype": "text/x-python",
   "name": "python",
   "nbconvert_exporter": "python",
   "pygments_lexer": "ipython3",
   "version": "3.7.0"
  }
 },
 "nbformat": 4,
 "nbformat_minor": 2
}
